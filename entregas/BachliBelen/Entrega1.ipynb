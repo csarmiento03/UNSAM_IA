{
 "cells": [
  {
   "cell_type": "markdown",
   "metadata": {
    "colab_type": "text",
    "id": "AlM6euMjxwVI"
   },
   "source": [
    "## Presentación\n",
    "\n",
    "Estos ejercicios tienen el fin de poder evaluar la situación en la que se encuentra cada unx de ustedes a esta altura de la materia. No es un examen, ni llevará ningún tipo de nota.\n",
    "\n",
    "Les pedimos que respeten al pie de la letra el nombre de las funciones que les damos para completar y su \"signature\". Esto es, que respeten los argumentos de entrada y la salida. Esto es porque tenemos una forma de verificación automática que de otra manera no funciona. Cuando hayamos recibido los notebooks, haremos público el código de control.\n",
    "\n",
    "Por supuesto, si quieren agregar celdas y más código, si quieren hacer pruebas para asegurarse de que el código funciona, etc., pueden hacerlo aquí mismo.\n",
    "\n",
    "La _modalidad de entrega preferencial_ es a través de GitHub:\n",
    "1. Hacer un fork del [repositorio](https://github.com/exord/UNSAM_IA), tocando el botón de arriba a la derecha (ver figura). \n",
    "\n",
    "2. Crear un subdirectorio dentro del directorio <tt>entregas</tt> con el formato \"ApellidoNombre\"\n",
    "3. Completar este notebook y colocarlo en ese directorio. Hacer un \"commit\" y un \"push\" a su versión del repositorio.\n",
    "4. Realizar un <tt>pull request</tt> desde GitHub y seguir las instrucciones. Más información en la [página de GitHub](https://help.github.com/en/github/collaborating-with-issues-and-pull-requests/about-pull-requests).\n",
    "\n",
    "De ser necesario, en caso de sufrir de **alergia severa a GitHub**, el notebook puede enviarse por email.\n",
    "\n",
    "La **fecha límite** para la entrega es el **martes 21 de abril a las 20 horas**.\n",
    "\n",
    "<figure>\n",
    "    <img src=\"https://github.com/exord/UNSAM_IA/blob/master/figures/fork_pullrequest.jpeg?raw=1\", alt=\"Fork\", width=\"800px\", \n",
    "         style=\"float: left; margin-right: 10px;\"/>\n",
    "    \n",
    "     <figcaption>Fig.1 - Ubicación de los botones para Fork y Pull request en Github.</figcaption>\n",
    "</figure>"
   ]
  },
  {
   "cell_type": "markdown",
   "metadata": {
    "colab_type": "text",
    "id": "xQGJAaz9My8p"
   },
   "source": [
    "## 1. Probabilidad Condicional"
   ]
  },
  {
   "cell_type": "code",
   "execution_count": 0,
   "metadata": {
    "colab": {
     "base_uri": "https://localhost:8080/",
     "height": 224
    },
    "colab_type": "code",
    "id": "UV8ZHtWoMWVd",
    "outputId": "a6c195ac-238a-4f2f-d0a3-59c35c80c1fe"
   },
   "outputs": [
    {
     "name": "stdout",
     "output_type": "stream",
     "text": [
      "--2020-04-14 02:08:11--  https://raw.githubusercontent.com/exord/UNSAM_IA/master/datasets/student-alcohol-consumption/student-mat.csv\n",
      "Resolving raw.githubusercontent.com (raw.githubusercontent.com)... 151.101.0.133, 151.101.64.133, 151.101.128.133, ...\n",
      "Connecting to raw.githubusercontent.com (raw.githubusercontent.com)|151.101.0.133|:443... connected.\n",
      "HTTP request sent, awaiting response... 200 OK\n",
      "Length: 41983 (41K) [text/plain]\n",
      "Saving to: ‘student-mat.csv’\n",
      "\n",
      "\r",
      "student-mat.csv       0%[                    ]       0  --.-KB/s               \r",
      "student-mat.csv     100%[===================>]  41.00K  --.-KB/s    in 0.02s   \n",
      "\n",
      "2020-04-14 02:08:12 (1.62 MB/s) - ‘student-mat.csv’ saved [41983/41983]\n",
      "\n"
     ]
    }
   ],
   "source": [
    "#Si estas en Google Colab, ejecuta esta celda una unica vez:\n",
    "!mkdir datasets\n",
    "!mkdir datasets/student-alcohol-consumption\n",
    "!wget https://raw.githubusercontent.com/exord/UNSAM_IA/master/datasets/student-alcohol-consumption/student-mat.csv\n",
    "!mv student-mat.csv datasets/student-alcohol-consumption/student-mat.csv"
   ]
  },
  {
   "cell_type": "markdown",
   "metadata": {
    "colab_type": "text",
    "id": "MDyX2WNDM1fC"
   },
   "source": [
    "Similar al ***Caso: Apruebo si falto a clase?*** del [notebook de probabilidad condicional](02_Condicional.ipynb), calcule la probabilidad de que un alumno haya faltado menos de 3 veces dado que sacó más de un 60% en la materia, i.e.\n",
    "$$\n",
    "P( \\text{absences} < 3 | \\text{G3} \\geq 12).\n",
    "$$\n",
    "\n",
    "Por favor, utilice el siguiente signature. Se recomienda cambiar el código solamente entre los comentarios \"Start\" y \"Finish\". \n",
    "Si quiere probar cosas, siéntase libre de crear nuevas celdas de código, aunque estas no serán evaluadas."
   ]
  },
  {
   "cell_type": "code",
   "execution_count": 0,
   "metadata": {
    "colab": {},
    "colab_type": "code",
    "id": "kgp3Px1JNFbA"
   },
   "outputs": [],
   "source": [
    "import numpy as np\n",
    "import pandas as pd\n",
    "\n",
    "def prob_condicional(df=pd.read_csv('datasets/student-alcohol-consumption/student-mat.csv')):\n",
    "  \"\"\"Calcula P(absences < 3 | G3 >= 12).\n",
    "  Input:\n",
    "    df -- dataset de estudiantes\n",
    "\n",
    "    Output:\n",
    "    p        -- probabilidad de que absences > 3 dado que G3 >= 12\n",
    "    \"\"\"\n",
    "  #Start\n",
    "  Registros = len(df)\n",
    "\n",
    "  df['aprobo'] = np.where(df['G3'] >= 12, 1, 0)\n",
    "  df['faltoPoco'] = np.where(df['absences'] <3, 1, 0) \n",
    "  FaltoPoco = np.sum(df['faltoPoco'])\n",
    "  Aprobo = np.sum(df['aprobo'])\n",
    "\n",
    "  df['aprobo_y_falto_poco'] = np.where((df['aprobo']==1)&(df['faltoPoco']==1), 1, 0)\n",
    "  AproboYFaltoPoco = np.sum(df['aprobo_y_falto_poco'])\n",
    "  \n",
    "  P_AproboYFaltoPoco = AproboYFaltoPoco/Registros\n",
    "  P_Aprobo = Aprobo/Registros\n",
    "  P_Final = P_AproboYFaltoPoco/P_Aprobo\n",
    "\n",
    "  #guarda el valor final, como un número, en esta variable\n",
    "  resultado = P_Final\n",
    "  #Finish\n",
    "  return resultado"
   ]
  },
  {
   "cell_type": "markdown",
   "metadata": {
    "colab_type": "text",
    "id": "CHJaCAAUgijj"
   },
   "source": [
    "\n",
    "\n",
    "$$  P( \\text{absences} < 3 | \\text{G3} \\geq 12) = \\frac{P((\\text{G3} \\geq 12) \\cap (\\text{absences} < 3))}{P( \\text{G3} \\geq 12)} $$"
   ]
  },
  {
   "cell_type": "code",
   "execution_count": 0,
   "metadata": {
    "colab": {
     "base_uri": "https://localhost:8080/",
     "height": 170
    },
    "colab_type": "code",
    "id": "92fCVNyLcmAA",
    "outputId": "3e846fd7-9e16-4cec-c157-028d67106652"
   },
   "outputs": [
    {
     "name": "stdout",
     "output_type": "stream",
     "text": [
      "Cantidad de registros: 395\n",
      "Cantidad de alumnos que faltaron poco: 183\n",
      "Cantidad de alumnos que aprobaron: 162\n",
      "Cantidad de alumnos que aprobaron y faltaron poco: 81\n",
      "Probabilidad de faltar poco: 0.46329113924050636\n",
      "Probabilidad de aprobar: 0.41012658227848103\n",
      "Probabilidad de faltar poco y aprobar: 0.20506329113924052\n",
      "Probabilidad de haber faltado poco tal que se aprobo: 0.5\n",
      "0.5\n"
     ]
    }
   ],
   "source": [
    "#prueba ejercicio 1\n",
    "import numpy as np\n",
    "import pandas as pd\n",
    "\n",
    "\n",
    "df = pd.read_csv('datasets/student-alcohol-consumption/student-mat.csv')\n",
    "\n",
    "Registros = len(df)\n",
    "print(\"Cantidad de registros: {}\".format(Registros))\n",
    "\n",
    "df['aprueba'] = np.where(df['G3'] >= 12, 1, 0)\n",
    "df['falto_menos_de_3_veces'] = np.where(df['absences'] <3, 1, 0)\n",
    "\n",
    "FaltoPoco = np.sum(df['falto_menos_de_3_veces'])\n",
    "Aprobo = np.sum(df['aprueba'])\n",
    "\n",
    "df['aprobo_y_falto_poco'] = np.where((df['aprueba']==1)&(df['falto_menos_de_3_veces']==1), 1, 0)\n",
    "\n",
    "df.head()\n",
    "\n",
    "AproboYFaltoPoco = np.sum(df['aprobo_y_falto_poco'])\n",
    "\n",
    "print(\"Cantidad de alumnos que faltaron poco: {}\".format(FaltoPoco))\n",
    "print(\"Cantidad de alumnos que aprobaron: {}\".format(Aprobo))\n",
    "print(\"Cantidad de alumnos que aprobaron y faltaron poco: {}\".format(AproboYFaltoPoco))\n",
    "\n",
    "\n",
    "P_AproboYFaltoPoco = AproboYFaltoPoco/Registros\n",
    "P_Aprobo = Aprobo/Registros\n",
    "P_FaltoPoco = FaltoPoco/Registros\n",
    "\n",
    "P_Final = P_AproboYFaltoPoco/P_Aprobo\n",
    "\n",
    "print(\"Probabilidad de faltar poco: {}\".format(P_FaltoPoco))\n",
    "print(\"Probabilidad de aprobar: {}\".format(P_Aprobo))\n",
    "print(\"Probabilidad de faltar poco y aprobar: {}\".format(P_AproboYFaltoPoco))\n",
    "\n",
    "print(\"Probabilidad de haber faltado poco tal que se aprobo: {}\".format(P_Final))"
   ]
  },
  {
   "cell_type": "markdown",
   "metadata": {
    "colab_type": "text",
    "id": "laC3JpLHOx-h"
   },
   "source": [
    "## 2. Inferencia Bayesiana"
   ]
  },
  {
   "cell_type": "markdown",
   "metadata": {
    "colab_type": "text",
    "id": "dfG9aID6_CLD"
   },
   "source": [
    "Se tira una moneda N veces, de las cuales X sale cara. La moneda sale cara con una frecuencia $\\mu$ desconocida, pero que se cree que es *fair*. \n",
    "\n",
    "Construya una función que recibe el vector con los N resultados (1: cara, 0: seca) y con él calcule tanto el posterior del parámetro $\\mu$ como la probabilidad de que $\\mu>0.7$. Use como prior una distribución normal con media 0.5 y desviación estandar 0.1 ($\\mathcal{N}(0.5,0.1)$)\n",
    "\n",
    "Por favor, utilice el siguiente signature. Se recomienda cambiar el código solamente entre los comentarios \"Start\" y \"Finish\". \n",
    "Si quiere probar cosas, siéntase libre de crear nuevas celdas de código, aunque estas no serán evaluadas.\n",
    "\n",
    "<b>Ayuda</b>: usar los métodos <tt>pdf</tt> y <tt>pmf</tt> de las clases de <tt>scipy.stats</tt> que se importan al principio de la celda. Revisar también los notebooks de [teoría](03_Inferencia.ipynb) y [práctica](03p_Inferencia_Soluciones.ipynb) que se presentaron en clase."
   ]
  },
  {
   "cell_type": "code",
   "execution_count": 0,
   "metadata": {
    "colab": {},
    "colab_type": "code",
    "id": "-NY1kRNs1GnH"
   },
   "outputs": [],
   "source": [
    "import numpy as np\n",
    "from scipy.stats import binom, norm\n",
    "\n",
    "def inferencia_moneda(tiradas, seed=123):\n",
    "    \"\"\"Realiza inferencia bayesiana en el parametro mu de una moneda.\n",
    "\n",
    "    Input:\n",
    "    tiradas -- Resultado de N tiradas\n",
    "    seed    -- Semilla para np.random (default=123)\n",
    "\n",
    "    Output:\n",
    "    p        -- probabilidad de que mu>0.7\n",
    "    posterior-- posterior de mu, shape=(100,)\n",
    "    \"\"\"\n",
    "    np.random.seed(seed)\n",
    "    mu, step = np.linspace(0,1,num=100, retstep=True) #step es el espacio entre puntos\n",
    "    \n",
    "    #Numero de tiradas, y de veces que salio cara\n",
    "    N=len(tiradas)\n",
    "    X=np.sum(tiradas)\n",
    "    \n",
    "    #Start\n",
    "    prior = norm.pdf(mu, 0.5, 0.1) #Esto es el prior evaluado en el vector mu\n",
    "    verosimilitud = binom.pmf(X,N,mu) #La verosimilitud evaluada en el vector mu\n",
    "    posterior = prior*verosimilitud #el posterior no normalizado\n",
    "    evidencia = posterior.sum()*0.01 #evidencia o verosimilitud marginalizada\n",
    "    posterior = posterior/evidencia #normalizamos para obtener el posterior\n",
    "    \n",
    "    p = posterior[mu>0.7].sum()*0.01 #Probabilidad de que mu > 0.7 \n",
    "    #Finish\n",
    "\n",
    "    assert len(posterior) == len(mu), \"Tamaño del posterior distinto al de mu\"\n",
    "    return p, np.array(posterior)"
   ]
  },
  {
   "cell_type": "code",
   "execution_count": 2,
   "metadata": {
    "colab": {
     "base_uri": "https://localhost:8080/",
     "height": 282
    },
    "colab_type": "code",
    "id": "jJZHUvCvB24W",
    "outputId": "98e09a0f-06d9-4729-9cc1-61c50d3dc64b"
   },
   "outputs": [
    {
     "name": "stdout",
     "output_type": "stream",
     "text": [
      "La probabilidad de que mu sea mayor a 0.7 es de 1.0\n"
     ]
    },
    {
     "data": {
      "image/png": "[encoded data removed]",
      "text/plain": [
       "<Figure size 432x288 with 1 Axes>"
      ]
     },
     "metadata": {
      "needs_background": "light",
      "tags": []
     },
     "output_type": "display_data"
    }
   ],
   "source": [
    "#prueba ejercicio 2\n",
    "import numpy as np\n",
    "from scipy.stats import binom, norm\n",
    "from matplotlib import pyplot as plt\n",
    "\n",
    "mu_t = 0.5# Defino el mu verdadero\n",
    "N = 100 #número de tiradas\n",
    "\n",
    "tiradas = np.where(np.random.rand(N) < mu_t, 1, 0) # Genera al azar 100 tiradas de una moneda con mu = 0.5.\n",
    "\n",
    "p, posterior = inferencia_moneda(tiradas)\n",
    "mu, step = np.linspace(0,1,num=100, retstep=True)\n",
    "\n",
    "plt.plot(mu, posterior)\n",
    "print('La probabilidad de que mu sea mayor a 0.7 es de {}'.format(p))"
   ]
  },
  {
   "cell_type": "markdown",
   "metadata": {
    "colab_type": "text",
    "id": "koZhGjvgO4uo"
   },
   "source": [
    "## 3. Regresión Lineal"
   ]
  },
  {
   "cell_type": "markdown",
   "metadata": {
    "colab_type": "text",
    "id": "TLYPUIQrPMgk"
   },
   "source": [
    "Construye una función que dado un input (X_train, Y_train) realice un ajuste lineal de cuadrados mínimos, y con ello devuelva las predicciones para el input X_test como un vector Y_test.\n",
    "\n",
    "Por favor, utilice el siguiente signature. Se recomienda cambiar el código solamente entre los comentarios \"Start\" y \"Finish\". \n",
    "Si quiere probar cosas, siéntase libre de crear nuevas celdas de código, aunque estas no serán evaluadas.\n",
    "\n",
    "<b>Ayuda</b>: pueden usar la implementación de las ecuaciones normales que aparece en el notebook de [modelos lineales](05_ModelosLineales.ipynb) o las clases del módulo <tt>sklearn.linear_model</tt>."
   ]
  },
  {
   "cell_type": "code",
   "execution_count": 0,
   "metadata": {
    "colab": {},
    "colab_type": "code",
    "id": "NavUqiDhPLx-"
   },
   "outputs": [],
   "source": [
    "import numpy as np\n",
    "\n",
    "def ajuste_lineal(X_train, Y_train, X_test):\n",
    "  \"\"\"Calcula un ajuste lineal.\n",
    "\n",
    "    Input:\n",
    "    X_train -- datos de entrenamiento, shape=(N,1)\n",
    "    Y_train -- etiquetas de entrenamiento, shape=(N,1)\n",
    "    X_test  -- datos de testeo, shape=(N_test,1)\n",
    "\n",
    "    Output:\n",
    "    Y_test  -- prediccion de etiquetas para X_test, shape=(N_test,1)\n",
    "    \"\"\"\n",
    "\n",
    "  N=len(X_train)\n",
    "  N_test=len(X_test)\n",
    "  #Start\n",
    "\n",
    "  phi = np.hstack([X_train*0.0 + 1, X_train]) \n",
    "\n",
    "  pp = np.dot(phi.T, phi) \n",
    "  yy = np.dot(phi.T, Y_train)\n",
    "  \n",
    "  wml = np.linalg.solve(pp, yy) \n",
    "  \n",
    "  #ahora guardamos los resultados en esta variable\n",
    "  phi_test = np.hstack([X_test*0.0 + 1, X_test])\n",
    "  Y_test = phi_test @ wml\n",
    "\n",
    "  #Finish\n",
    "  assert len(Y_test) == len(X_test), \"Tamaño de Y_test distinto al de X_test\"\n",
    "  return np.array(Y_test)"
   ]
  },
  {
   "cell_type": "code",
   "execution_count": 16,
   "metadata": {
    "colab": {
     "base_uri": "https://localhost:8080/",
     "height": 282
    },
    "colab_type": "code",
    "id": "qxthZUlaqYZu",
    "outputId": "e926ca97-85d4-461c-cb6a-bfbd66bc1dac"
   },
   "outputs": [
    {
     "data": {
      "text/plain": [
       "[<matplotlib.lines.Line2D at 0x7f18eff8de80>]"
      ]
     },
     "execution_count": 16,
     "metadata": {
      "tags": []
     },
     "output_type": "execute_result"
    },
    {
     "data": {
      "image/png": "[encoded data removed]",
      "text/plain": [
       "<Figure size 432x288 with 1 Axes>"
      ]
     },
     "metadata": {
      "needs_background": "light",
      "tags": []
     },
     "output_type": "display_data"
    }
   ],
   "source": [
    "#prueba ejercicio 3\n",
    "from matplotlib import pyplot as plt\n",
    "\n",
    "x_ = np.random.rand(100, 1)\n",
    "a_real = -0.3 + 0.5 * x_\n",
    "noise = np.random.normal(0,0.2,[100,1])\n",
    "t_ = a_real + noise\n",
    "\n",
    "data = np.hstack([x_, t_])\n",
    "data_train, data_test = elegir_test(data, 0.2)\n",
    "\n",
    "x_train = data_train[:, 0].reshape(len(data_train), 1)\n",
    "y_train = data_train[:, 1].reshape(len(data_train), 1)\n",
    "x_test = data_test[:, 0].reshape(len(data_test), 1)\n",
    "\n",
    "y_test = ajuste_lineal(x_train, y_train, x_test)\n",
    "\n",
    "plt.plot(x_test, y_test)"
   ]
  },
  {
   "cell_type": "code",
   "execution_count": 0,
   "metadata": {
    "colab": {},
    "colab_type": "code",
    "id": "LNpYhTCyqpj2"
   },
   "outputs": [],
   "source": [
    "def elegir_test(data, fraccion, seed=1234): #elijo una cierta cantidad de datos aleatorios que vamos a tener en los datos tomados\n",
    "\n",
    "    # Fijar el seed para ser reproducible\n",
    "    import numpy.random as rr\n",
    "    if seed is not None:\n",
    "        rr.seed(seed)\n",
    "    \n",
    "    # Permuta los índices para elegir al azar\n",
    "    ind = rr.permutation(len(data))\n",
    "    # Calcula el número de elementos en el set de test\n",
    "    ntest = int(len(data) * fraccion)\n",
    "    \n",
    "    # Construye los índices para cada conjunto\n",
    "    indices_train = ind[ntest:] #del 20 en adelante van a ser los train\n",
    "    indices_test = ind[:ntest] #hasta el 20 van a ser los test\n",
    "    return data[indices_train], data[indices_test]"
   ]
  }
 ],
 "metadata": {
  "colab": {
   "collapsed_sections": [],
   "name": "Auto-evaluación.ipynb",
   "provenance": []
  },
  "kernelspec": {
   "display_name": "Python 3",
   "language": "python",
   "name": "python3"
  },
  "language_info": {
   "codemirror_mode": {
    "name": "ipython",
    "version": 3
   },
   "file_extension": ".py",
   "mimetype": "text/x-python",
   "name": "python",
   "nbconvert_exporter": "python",
   "pygments_lexer": "ipython3",
   "version": "3.6.9"
  }
 },
 "nbformat": 4,
 "nbformat_minor": 1
}

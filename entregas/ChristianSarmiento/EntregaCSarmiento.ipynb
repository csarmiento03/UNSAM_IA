{
 "cells": [
  {
   "cell_type": "markdown",
   "metadata": {},
   "source": [
    "## Presentación\n",
    "\n",
    "Estos ejercicios tienen el fin de poder evaluar la situación en la que se encuentra cada unx de ustedes a esta altura de la materia. No es un examen, ni llevará ningún tipo de nota.\n",
    "\n",
    "Les pedimos que respeten al pie de la letra el nombre de las funciones que les damos para completar y su \"signature\". Esto es, que respeten los argumentos de entrada y la salida. Esto es porque tenemos una forma de verificación automática que de otra manera no funciona. Cuando hayamos recibido los notebooks, haremos público el código de control.\n",
    "\n",
    "Por supuesto, si quieren agregar celdas y más código, si quieren hacer pruebas para asegurarse de que el código funciona, etc., pueden hacerlo aquí mismo.\n",
    "\n",
    "La _modalidad de entrega preferencial_ es a través de GitHub:\n",
    "1. Hacer un fork del [repositorio](https://github.com/exord/UNSAM_IA), tocando el botón de arriba a la derecha (ver figura). \n",
    "\n",
    "2. Crear un subdirectorio dentro del directorio <tt>entregas</tt> con el formato \"ApellidoNombre\"\n",
    "3. Completar este notebook y colocarlo en ese directorio. Hacer un \"commit\" y un \"push\" a su versión del repositorio.\n",
    "4. Realizar un <tt>pull request</tt> desde GitHub y seguir las instrucciones. Más información en la [página de GitHub](https://help.github.com/en/github/collaborating-with-issues-and-pull-requests/about-pull-requests).\n",
    "\n",
    "De ser necesario, en caso de sufrir de **alergia severa a GitHub**, el notebook puede enviarse por email.\n",
    "\n",
    "La **fecha límite** para la entrega es el **martes 21 de abril a las 20 horas**.\n",
    "\n",
    "<figure>\n",
    "    <img src=\"figures/fork_pullrequest.jpeg\", alt=\"Fork\", width=\"800px\", \n",
    "         style=\"float: left; margin-right: 10px;\"/>\n",
    "    \n",
    "     <figcaption>Fig.1 - Ubicación de los botones para Fork y Pull request en Github.</figcaption>\n",
    "</figure>"
   ]
  },
  {
   "cell_type": "markdown",
   "metadata": {
    "colab_type": "text",
    "id": "xQGJAaz9My8p"
   },
   "source": [
    "## 1. Probabilidad Condicional"
   ]
  },
  {
   "cell_type": "code",
   "execution_count": 1,
   "metadata": {
    "colab": {},
    "colab_type": "code",
    "id": "UV8ZHtWoMWVd"
   },
   "outputs": [
    {
     "name": "stdout",
     "output_type": "stream",
     "text": [
      "mkdir: no se puede crear el directorio «datasets»: El archivo ya existe\n",
      "mkdir: no se puede crear el directorio «datasets/student-alcohol-consumption»: El archivo ya existe\n",
      "--2020-04-15 10:52:51--  https://raw.githubusercontent.com/exord/UNSAM_IA/master/datasets/student-alcohol-consumption/student-mat.csv\n",
      "Resolviendo raw.githubusercontent.com (raw.githubusercontent.com)... 151.101.216.133\n",
      "Conectando con raw.githubusercontent.com (raw.githubusercontent.com)[151.101.216.133]:443... conectado.\n",
      "Petición HTTP enviada, esperando respuesta... 200 OK\n",
      "Longitud: 41983 (41K) [text/plain]\n",
      "Guardando como: “student-mat.csv”\n",
      "\n",
      "student-mat.csv     100%[===================>]  41,00K  --.-KB/s    en 0,04s   \n",
      "\n",
      "2020-04-15 10:52:52 (955 KB/s) - “student-mat.csv” guardado [41983/41983]\n",
      "\n"
     ]
    }
   ],
   "source": [
    "#Si estas en Google Colab, ejecuta esta celda una unica vez:\n",
    "!mkdir datasets\n",
    "!mkdir datasets/student-alcohol-consumption\n",
    "!wget https://raw.githubusercontent.com/exord/UNSAM_IA/master/datasets/student-alcohol-consumption/student-mat.csv\n",
    "!mv student-mat.csv datasets/student-alcohol-consumption/student-mat.csv"
   ]
  },
  {
   "cell_type": "markdown",
   "metadata": {
    "colab_type": "text",
    "id": "MDyX2WNDM1fC"
   },
   "source": [
    "Similar al ***Caso: Apruebo si falto a clase?*** del [notebook de probabilidad condicional](02_Condicional.ipynb), calcule la probabilidad de que un alumno haya faltado menos de 3 veces dado que sacó más de un 60% en la materia, i.e.\n",
    "$$\n",
    "P( \\text{absences} < 3 | \\text{G3} \\geq 12).\n",
    "$$\n",
    "\n",
    "Por favor, utilice el siguiente signature. Se recomienda cambiar el código solamente entre los comentarios \"Start\" y \"Finish\". \n",
    "Si quiere probar cosas, siéntase libre de crear nuevas celdas de código, aunque estas no serán evaluadas."
   ]
  },
  {
   "cell_type": "code",
   "execution_count": 4,
   "metadata": {
    "colab": {},
    "colab_type": "code",
    "id": "kgp3Px1JNFbA"
   },
   "outputs": [],
   "source": [
    "import numpy as np\n",
    "import pandas as pd\n",
    "\n",
    "def prob_condicional(\n",
    "  df=pd.read_csv('datasets/student-alcohol-consumption/student-mat.csv')):\n",
    "    \"\"\"\n",
    "    Calcula P(absences < 3 | G3 >= 12).\n",
    "\n",
    "    Input:\n",
    "    df -- dataset de estudiantes\n",
    "\n",
    "    Output:\n",
    "    p        -- probabilidad de que absences > 3 dado que G3 >= 12\n",
    "    \"\"\"\n",
    "    df['aprueba'] = np.where(df['G3']*5 >= 60, 1, 0)\n",
    "    df['falto_poco'] = np.where(df['absences'] < 3, 1, 0)\n",
    "    df['cuenta'] = 1\n",
    "    df = df[['aprueba','falto_poco','cuenta']]\n",
    "    interseccion=df[(df['falto_poco']==1) & (df['aprueba']==1)]\n",
    "    #interseccion=np.sum(interseccion[\"cuenta\"])\n",
    "    \n",
    "\n",
    "  #Start\n",
    "\n",
    "  #guarda el valor final, como un número, en esta variable\n",
    "    resultado = \"{0:.2f}\".format(np.sum(interseccion[\"cuenta\"])/np.sum(df['aprueba']))\n",
    "  #Finish\n",
    "    return resultado"
   ]
  },
  {
   "cell_type": "code",
   "execution_count": 5,
   "metadata": {},
   "outputs": [
    {
     "data": {
      "text/plain": [
       "'0.50'"
      ]
     },
     "execution_count": 5,
     "metadata": {},
     "output_type": "execute_result"
    }
   ],
   "source": [
    "prob_condicional()"
   ]
  },
  {
   "cell_type": "code",
   "execution_count": 6,
   "metadata": {},
   "outputs": [
    {
     "data": {
      "text/plain": [
       "'0.50'"
      ]
     },
     "execution_count": 6,
     "metadata": {},
     "output_type": "execute_result"
    }
   ],
   "source": [
    "prob_condicional(df=pd.read_csv('datasets/student-alcohol-consumption/student-mat.csv'))"
   ]
  },
  {
   "cell_type": "code",
   "execution_count": 7,
   "metadata": {},
   "outputs": [
    {
     "data": {
      "text/html": [
       "<div>\n",
       "<style scoped>\n",
       "    .dataframe tbody tr th:only-of-type {\n",
       "        vertical-align: middle;\n",
       "    }\n",
       "\n",
       "    .dataframe tbody tr th {\n",
       "        vertical-align: top;\n",
       "    }\n",
       "\n",
       "    .dataframe thead th {\n",
       "        text-align: right;\n",
       "    }\n",
       "</style>\n",
       "<table border=\"1\" class=\"dataframe\">\n",
       "  <thead>\n",
       "    <tr style=\"text-align: right;\">\n",
       "      <th></th>\n",
       "      <th>school</th>\n",
       "      <th>sex</th>\n",
       "      <th>age</th>\n",
       "      <th>address</th>\n",
       "      <th>famsize</th>\n",
       "      <th>Pstatus</th>\n",
       "      <th>Medu</th>\n",
       "      <th>Fedu</th>\n",
       "      <th>Mjob</th>\n",
       "      <th>Fjob</th>\n",
       "      <th>...</th>\n",
       "      <th>famrel</th>\n",
       "      <th>freetime</th>\n",
       "      <th>goout</th>\n",
       "      <th>Dalc</th>\n",
       "      <th>Walc</th>\n",
       "      <th>health</th>\n",
       "      <th>absences</th>\n",
       "      <th>G1</th>\n",
       "      <th>G2</th>\n",
       "      <th>G3</th>\n",
       "    </tr>\n",
       "  </thead>\n",
       "  <tbody>\n",
       "    <tr>\n",
       "      <th>0</th>\n",
       "      <td>GP</td>\n",
       "      <td>F</td>\n",
       "      <td>18</td>\n",
       "      <td>U</td>\n",
       "      <td>GT3</td>\n",
       "      <td>A</td>\n",
       "      <td>4</td>\n",
       "      <td>4</td>\n",
       "      <td>at_home</td>\n",
       "      <td>teacher</td>\n",
       "      <td>...</td>\n",
       "      <td>4</td>\n",
       "      <td>3</td>\n",
       "      <td>4</td>\n",
       "      <td>1</td>\n",
       "      <td>1</td>\n",
       "      <td>3</td>\n",
       "      <td>6</td>\n",
       "      <td>5</td>\n",
       "      <td>6</td>\n",
       "      <td>6</td>\n",
       "    </tr>\n",
       "    <tr>\n",
       "      <th>1</th>\n",
       "      <td>GP</td>\n",
       "      <td>F</td>\n",
       "      <td>17</td>\n",
       "      <td>U</td>\n",
       "      <td>GT3</td>\n",
       "      <td>T</td>\n",
       "      <td>1</td>\n",
       "      <td>1</td>\n",
       "      <td>at_home</td>\n",
       "      <td>other</td>\n",
       "      <td>...</td>\n",
       "      <td>5</td>\n",
       "      <td>3</td>\n",
       "      <td>3</td>\n",
       "      <td>1</td>\n",
       "      <td>1</td>\n",
       "      <td>3</td>\n",
       "      <td>4</td>\n",
       "      <td>5</td>\n",
       "      <td>5</td>\n",
       "      <td>6</td>\n",
       "    </tr>\n",
       "    <tr>\n",
       "      <th>2</th>\n",
       "      <td>GP</td>\n",
       "      <td>F</td>\n",
       "      <td>15</td>\n",
       "      <td>U</td>\n",
       "      <td>LE3</td>\n",
       "      <td>T</td>\n",
       "      <td>1</td>\n",
       "      <td>1</td>\n",
       "      <td>at_home</td>\n",
       "      <td>other</td>\n",
       "      <td>...</td>\n",
       "      <td>4</td>\n",
       "      <td>3</td>\n",
       "      <td>2</td>\n",
       "      <td>2</td>\n",
       "      <td>3</td>\n",
       "      <td>3</td>\n",
       "      <td>10</td>\n",
       "      <td>7</td>\n",
       "      <td>8</td>\n",
       "      <td>10</td>\n",
       "    </tr>\n",
       "    <tr>\n",
       "      <th>3</th>\n",
       "      <td>GP</td>\n",
       "      <td>F</td>\n",
       "      <td>15</td>\n",
       "      <td>U</td>\n",
       "      <td>GT3</td>\n",
       "      <td>T</td>\n",
       "      <td>4</td>\n",
       "      <td>2</td>\n",
       "      <td>health</td>\n",
       "      <td>services</td>\n",
       "      <td>...</td>\n",
       "      <td>3</td>\n",
       "      <td>2</td>\n",
       "      <td>2</td>\n",
       "      <td>1</td>\n",
       "      <td>1</td>\n",
       "      <td>5</td>\n",
       "      <td>2</td>\n",
       "      <td>15</td>\n",
       "      <td>14</td>\n",
       "      <td>15</td>\n",
       "    </tr>\n",
       "    <tr>\n",
       "      <th>4</th>\n",
       "      <td>GP</td>\n",
       "      <td>F</td>\n",
       "      <td>16</td>\n",
       "      <td>U</td>\n",
       "      <td>GT3</td>\n",
       "      <td>T</td>\n",
       "      <td>3</td>\n",
       "      <td>3</td>\n",
       "      <td>other</td>\n",
       "      <td>other</td>\n",
       "      <td>...</td>\n",
       "      <td>4</td>\n",
       "      <td>3</td>\n",
       "      <td>2</td>\n",
       "      <td>1</td>\n",
       "      <td>2</td>\n",
       "      <td>5</td>\n",
       "      <td>4</td>\n",
       "      <td>6</td>\n",
       "      <td>10</td>\n",
       "      <td>10</td>\n",
       "    </tr>\n",
       "  </tbody>\n",
       "</table>\n",
       "<p>5 rows × 33 columns</p>\n",
       "</div>"
      ],
      "text/plain": [
       "  school sex  age address famsize Pstatus  Medu  Fedu     Mjob      Fjob ...  \\\n",
       "0     GP   F   18       U     GT3       A     4     4  at_home   teacher ...   \n",
       "1     GP   F   17       U     GT3       T     1     1  at_home     other ...   \n",
       "2     GP   F   15       U     LE3       T     1     1  at_home     other ...   \n",
       "3     GP   F   15       U     GT3       T     4     2   health  services ...   \n",
       "4     GP   F   16       U     GT3       T     3     3    other     other ...   \n",
       "\n",
       "  famrel freetime  goout  Dalc  Walc health absences  G1  G2  G3  \n",
       "0      4        3      4     1     1      3        6   5   6   6  \n",
       "1      5        3      3     1     1      3        4   5   5   6  \n",
       "2      4        3      2     2     3      3       10   7   8  10  \n",
       "3      3        2      2     1     1      5        2  15  14  15  \n",
       "4      4        3      2     1     2      5        4   6  10  10  \n",
       "\n",
       "[5 rows x 33 columns]"
      ]
     },
     "execution_count": 7,
     "metadata": {},
     "output_type": "execute_result"
    }
   ],
   "source": [
    "import numpy as np\n",
    "import pandas as pd\n",
    "df=pd.read_csv('datasets/student-alcohol-consumption/student-mat.csv')\n",
    "df.head()"
   ]
  },
  {
   "cell_type": "code",
   "execution_count": 8,
   "metadata": {},
   "outputs": [
    {
     "data": {
      "text/html": [
       "<div>\n",
       "<style scoped>\n",
       "    .dataframe tbody tr th:only-of-type {\n",
       "        vertical-align: middle;\n",
       "    }\n",
       "\n",
       "    .dataframe tbody tr th {\n",
       "        vertical-align: top;\n",
       "    }\n",
       "\n",
       "    .dataframe thead th {\n",
       "        text-align: right;\n",
       "    }\n",
       "</style>\n",
       "<table border=\"1\" class=\"dataframe\">\n",
       "  <thead>\n",
       "    <tr style=\"text-align: right;\">\n",
       "      <th></th>\n",
       "      <th>aprueba</th>\n",
       "      <th>falto_poco</th>\n",
       "      <th>cuenta</th>\n",
       "    </tr>\n",
       "  </thead>\n",
       "  <tbody>\n",
       "    <tr>\n",
       "      <th>0</th>\n",
       "      <td>0</td>\n",
       "      <td>0</td>\n",
       "      <td>1</td>\n",
       "    </tr>\n",
       "    <tr>\n",
       "      <th>1</th>\n",
       "      <td>0</td>\n",
       "      <td>0</td>\n",
       "      <td>1</td>\n",
       "    </tr>\n",
       "    <tr>\n",
       "      <th>2</th>\n",
       "      <td>0</td>\n",
       "      <td>0</td>\n",
       "      <td>1</td>\n",
       "    </tr>\n",
       "    <tr>\n",
       "      <th>3</th>\n",
       "      <td>1</td>\n",
       "      <td>1</td>\n",
       "      <td>1</td>\n",
       "    </tr>\n",
       "    <tr>\n",
       "      <th>4</th>\n",
       "      <td>0</td>\n",
       "      <td>0</td>\n",
       "      <td>1</td>\n",
       "    </tr>\n",
       "  </tbody>\n",
       "</table>\n",
       "</div>"
      ],
      "text/plain": [
       "   aprueba  falto_poco  cuenta\n",
       "0        0           0       1\n",
       "1        0           0       1\n",
       "2        0           0       1\n",
       "3        1           1       1\n",
       "4        0           0       1"
      ]
     },
     "execution_count": 8,
     "metadata": {},
     "output_type": "execute_result"
    }
   ],
   "source": [
    "df['aprueba'] = np.where(df['G3']*5 >= 60, 1, 0)\n",
    "df['falto_poco'] = np.where(df['absences'] < 3, 1, 0)\n",
    "df['cuenta'] = 1\n",
    "df = df[['aprueba','falto_poco','cuenta']]\n",
    "df.head()"
   ]
  },
  {
   "cell_type": "code",
   "execution_count": 9,
   "metadata": {},
   "outputs": [
    {
     "data": {
      "text/plain": [
       "162"
      ]
     },
     "execution_count": 9,
     "metadata": {},
     "output_type": "execute_result"
    }
   ],
   "source": [
    "np.sum(df['aprueba'])"
   ]
  },
  {
   "cell_type": "code",
   "execution_count": 10,
   "metadata": {},
   "outputs": [
    {
     "data": {
      "text/plain": [
       "183"
      ]
     },
     "execution_count": 10,
     "metadata": {},
     "output_type": "execute_result"
    }
   ],
   "source": [
    "np.sum(df['falto_poco'])"
   ]
  },
  {
   "cell_type": "code",
   "execution_count": 11,
   "metadata": {},
   "outputs": [],
   "source": [
    "kk=df[(df['falto_poco']==1) & (df['aprueba']==1)]"
   ]
  },
  {
   "cell_type": "code",
   "execution_count": 12,
   "metadata": {},
   "outputs": [
    {
     "data": {
      "text/plain": [
       "81"
      ]
     },
     "execution_count": 12,
     "metadata": {},
     "output_type": "execute_result"
    }
   ],
   "source": [
    "np.sum(kk[\"cuenta\"])"
   ]
  },
  {
   "cell_type": "code",
   "execution_count": 13,
   "metadata": {},
   "outputs": [
    {
     "data": {
      "text/plain": [
       "aprueba       162\n",
       "falto_poco    183\n",
       "cuenta        395\n",
       "dtype: int64"
      ]
     },
     "execution_count": 13,
     "metadata": {},
     "output_type": "execute_result"
    }
   ],
   "source": [
    "np.sum(df)"
   ]
  },
  {
   "cell_type": "code",
   "execution_count": 14,
   "metadata": {},
   "outputs": [
    {
     "data": {
      "text/html": [
       "<div>\n",
       "<style scoped>\n",
       "    .dataframe tbody tr th:only-of-type {\n",
       "        vertical-align: middle;\n",
       "    }\n",
       "\n",
       "    .dataframe tbody tr th {\n",
       "        vertical-align: top;\n",
       "    }\n",
       "\n",
       "    .dataframe thead th {\n",
       "        text-align: right;\n",
       "    }\n",
       "</style>\n",
       "<table border=\"1\" class=\"dataframe\">\n",
       "  <thead>\n",
       "    <tr style=\"text-align: right;\">\n",
       "      <th>falto_poco</th>\n",
       "      <th>0</th>\n",
       "      <th>1</th>\n",
       "    </tr>\n",
       "    <tr>\n",
       "      <th>aprueba</th>\n",
       "      <th></th>\n",
       "      <th></th>\n",
       "    </tr>\n",
       "  </thead>\n",
       "  <tbody>\n",
       "    <tr>\n",
       "      <th>0</th>\n",
       "      <td>131</td>\n",
       "      <td>102</td>\n",
       "    </tr>\n",
       "    <tr>\n",
       "      <th>1</th>\n",
       "      <td>81</td>\n",
       "      <td>81</td>\n",
       "    </tr>\n",
       "  </tbody>\n",
       "</table>\n",
       "</div>"
      ],
      "text/plain": [
       "falto_poco    0    1\n",
       "aprueba             \n",
       "0           131  102\n",
       "1            81   81"
      ]
     },
     "execution_count": 14,
     "metadata": {},
     "output_type": "execute_result"
    }
   ],
   "source": [
    "pd.pivot_table(\n",
    "    df,\n",
    "    values = 'cuenta',\n",
    "    index = ['aprueba'],\n",
    "    columns = ['falto_poco'],\n",
    "    aggfunc = np.sum,\n",
    "    fill_value = 0)"
   ]
  },
  {
   "cell_type": "markdown",
   "metadata": {
    "colab_type": "text",
    "id": "laC3JpLHOx-h"
   },
   "source": [
    "## 2. Inferencia Bayesiana"
   ]
  },
  {
   "cell_type": "markdown",
   "metadata": {
    "colab_type": "text",
    "id": "dfG9aID6_CLD"
   },
   "source": [
    "Se tira una moneda N veces, de las cuales X sale cara. La moneda sale cara con una frecuencia $\\mu$ desconocida, pero que se cree que es *fair*. \n",
    "\n",
    "Construya una función que recibe el vector con los N resultados (1: cara, 0: seca) y con él calcule tanto el posterior del parámetro $\\mu$ como la probabilidad de que $\\mu>0.7$. Use como prior una distribución normal con media 0.5 y desviación estandar 0.1 ($\\mathcal{N}(0.5,0.1)$)\n",
    "\n",
    "Por favor, utilice el siguiente signature. Se recomienda cambiar el código solamente entre los comentarios \"Start\" y \"Finish\". \n",
    "Si quiere probar cosas, siéntase libre de crear nuevas celdas de código, aunque estas no serán evaluadas.\n",
    "\n",
    "<b>Ayuda</b>: usar los métodos <tt>pdf</tt> y <tt>pmf</tt> de las clases de <tt>scipy.stats</tt> que se importan al principio de la celda. Revisar también los notebooks de [teoría](03_Inferencia.ipynb) y [práctica](03p_Inferencia_Soluciones.ipynb) que se presentaron en clase."
   ]
  },
  {
   "cell_type": "code",
   "execution_count": 76,
   "metadata": {
    "colab": {},
    "colab_type": "code",
    "id": "-NY1kRNs1GnH"
   },
   "outputs": [],
   "source": [
    "import numpy as np\n",
    "from scipy.stats import binom, norm\n",
    "\n",
    "def inferencia_moneda(tiradas, seed=123):\n",
    "    \"\"\"Realiza inferencia bayesiana en el parametro mu de una moneda.\n",
    "\n",
    "    Input:\n",
    "    tiradas -- Resultado de N tiradas\n",
    "    seed    -- Semilla para np.random (default=123)\n",
    "\n",
    "    Output:\n",
    "    p        -- probabilidad de que mu>0.7\n",
    "    posterior-- posterior de mu, shape=(100,)\n",
    "    \"\"\"\n",
    "    np.random.seed(seed)\n",
    "    mu, step = np.linspace(0,1,num=100, retstep=True) #step es el espacio entre puntos\n",
    "\n",
    "    #Numero de tiradas, y de veces que salio cara\n",
    "    N=len(tiradas)\n",
    "    X=np.sum(tiradas)\n",
    "\n",
    "    #Start\n",
    "    prior = norm.pdf(mu,0.5,0.1) #Esto es el prior evaluado en el vector mu\n",
    "    verosimilitud = binom.pmf(X,N,mu) #La verosimilitud evaluada en el vector mu\n",
    "    posterior = prior*verosimilitud #el posterior no normalizado\n",
    "    evidencia = posterior.sum() #evidencia o verosimilitud marginalizada\n",
    "    posterior = posterior/evidencia #normalizamos para obtener el posterior\n",
    "\n",
    "    p = posterior[mu>0.7].sum() #Probabilidad de que mu > 0.7 \n",
    "    #Finish\n",
    "    assert len(posterior) == len(mu), \"Tamaño del posterior distinto al de mu\"\n",
    "    return p, np.array(posterior)\n",
    "\n"
   ]
  },
  {
   "cell_type": "code",
   "execution_count": 77,
   "metadata": {},
   "outputs": [
    {
     "name": "stdout",
     "output_type": "stream",
     "text": [
      "[ 0.  1.  2.  3.  4.  5.  6.  7.  8.  9. 10. 11. 12. 13. 14. 15. 16. 17.\n",
      " 18. 19. 20. 21. 22. 23. 24. 25. 26. 27. 28. 29. 30. 31. 32. 33. 34. 35.\n",
      " 36. 37. 38. 39. 40. 41. 42. 43. 44. 45. 46. 47. 48. 49. 50. 51. 52. 53.\n",
      " 54. 55. 56. 57. 58. 59. 60. 61. 62. 63. 64. 65. 66. 67. 68. 69. 70. 71.\n",
      " 72. 73. 74. 75. 76. 77. 78. 79. 80. 81. 82. 83. 84. 85. 86. 87. 88. 89.\n",
      " 90. 91. 92. 93. 94. 95. 96. 97. 98. 99.]\n"
     ]
    },
    {
     "data": {
      "text/plain": [
       "100"
      ]
     },
     "execution_count": 77,
     "metadata": {},
     "output_type": "execute_result"
    }
   ],
   "source": [
    "y=np.arange(0,100,1.)\n",
    "print(y)\n",
    "len(y)\n"
   ]
  },
  {
   "cell_type": "code",
   "execution_count": 78,
   "metadata": {},
   "outputs": [
    {
     "name": "stderr",
     "output_type": "stream",
     "text": [
      "/usr/lib/python3/dist-packages/ipykernel_launcher.py:27: RuntimeWarning: invalid value encountered in true_divide\n"
     ]
    },
    {
     "data": {
      "text/plain": [
       "(nan,\n",
       " array([nan, nan, nan, nan, nan, nan, nan, nan, nan, nan, nan, nan, nan,\n",
       "        nan, nan, nan, nan, nan, nan, nan, nan, nan, nan, nan, nan, nan,\n",
       "        nan, nan, nan, nan, nan, nan, nan, nan, nan, nan, nan, nan, nan,\n",
       "        nan, nan, nan, nan, nan, nan, nan, nan, nan, nan, nan, nan, nan,\n",
       "        nan, nan, nan, nan, nan, nan, nan, nan, nan, nan, nan, nan, nan,\n",
       "        nan, nan, nan, nan, nan, nan, nan, nan, nan, nan, nan, nan, nan,\n",
       "        nan, nan, nan, nan, nan, nan, nan, nan, nan, nan, nan, nan, nan,\n",
       "        nan, nan, nan, nan, nan, nan, nan, nan, nan]))"
      ]
     },
     "execution_count": 78,
     "metadata": {},
     "output_type": "execute_result"
    }
   ],
   "source": [
    "inferencia_moneda(y)"
   ]
  },
  {
   "cell_type": "code",
   "execution_count": 79,
   "metadata": {},
   "outputs": [],
   "source": [
    "from scipy.stats import binom, beta, uniform, norm, bernoulli, dirichlet\n",
    "#Primero genero mi experimento. Supongamos un mu verdadero (que luego querré inferir cual es):\n",
    "true_mu = 0.7\n",
    "#Genero 1000 tiradas, es un proceso de Bernoulli. Esto es el experimento.\n",
    "N_max = 1000\n",
    "tiradas = bernoulli.rvs(true_mu, size=N_max)\n",
    "#este vector son 1 o 0 (caras o secas). La cantidad de caras las puedo sacar simplemente sumando con .sum().\n",
    "#print(tiradas)"
   ]
  },
  {
   "cell_type": "code",
   "execution_count": 26,
   "metadata": {},
   "outputs": [
    {
     "name": "stdout",
     "output_type": "stream",
     "text": [
      "706\n"
     ]
    }
   ],
   "source": [
    "X=np.sum(tiradas)\n",
    "print(X)"
   ]
  },
  {
   "cell_type": "code",
   "execution_count": 47,
   "metadata": {},
   "outputs": [
    {
     "data": {
      "image/png": "[encoded data removed]",
      "text/plain": [
       "<Figure size 432x288 with 1 Axes>"
      ]
     },
     "metadata": {},
     "output_type": "display_data"
    }
   ],
   "source": [
    "from matplotlib import pylab as plt\n",
    "\n",
    "#Esto es para samplear\n",
    "mu = np.linspace(0.,1.,num=1000,endpoint=False)\n",
    "\n",
    "#prior normal:\n",
    "prior = norm.pdf(mu,0.5,0.1)\n",
    "#plt.plot(p,prior, label='prior')\n",
    "\n",
    "#Ahora vamos experimentando. Vamos sumando tiradas en 10 pasos.\n",
    "for N in [1,100,500,1000, N_max]:\n",
    "    #Numero de eventos que salio cara:\n",
    "    X = tiradas[:N].sum()\n",
    "    #verosimilitud binomial\n",
    "    verosimilitud = binom.pmf(X,N,mu)\n",
    "    #posterior no normalizado\n",
    "    posterior = prior*verosimilitud\n",
    "    #calculo el area bajo la curva (son 1000 puntos equiespaciados)\n",
    "    evidence = posterior.sum()*0.001\n",
    "    #normalizo el posterior\n",
    "    posterior = posterior/evidence\n",
    "    #ploteo\n",
    "    plt.plot(mu,posterior, label='N={}'.format(N))\n",
    "    \n",
    "#plt.axvline(true_p, label='p real')\n",
    "plt.legend()\n",
    "plt.xlabel('$\\mu$')\n",
    "plt.show()\n"
   ]
  },
  {
   "cell_type": "code",
   "execution_count": 75,
   "metadata": {},
   "outputs": [
    {
     "name": "stdout",
     "output_type": "stream",
     "text": [
      "4.816486020393553e-07\n",
      "3.493364280631302\n",
      "N = 100\n",
      "X 49\n"
     ]
    }
   ],
   "source": [
    "seed=1234\n",
    "np.random.seed(seed)\n",
    "mu, step = np.linspace(0,1,num=100, retstep=True) #step es el espacio entre puntos\n",
    "\n",
    "#Numero de tiradas, y de veces que salio cara\n",
    "tiradas = bernoulli.rvs(mu)\n",
    "N=len(tiradas)\n",
    "X=np.sum(tiradas)\n",
    "\n",
    "#Start\n",
    "prior = norm.pdf(mu,0.5,0.1) #Esto es el prior evaluado en el vector mu\n",
    "verosimilitud = binom.pmf(X,N,mu) #La verosimilitud evaluada en el vector mu\n",
    "posterior = prior*verosimilitud #el posterior no normalizado\n",
    "evidencia = posterior.sum() #evidencia o verosimilitud marginalizada\n",
    "posterior = posterior/evidencia #normalizamos para obtener el posterior\n",
    "#print(np.array(posterior))\n",
    "print(posterior[mu>0.7].sum())\n",
    "print(evidencia)\n",
    "#print(\"mu\", mu)\n",
    "#print(\"tiradas\", tiradas)\n",
    "print(\"N =\", N)\n",
    "print(\"X\", X)"
   ]
  },
  {
   "cell_type": "code",
   "execution_count": 52,
   "metadata": {},
   "outputs": [
    {
     "name": "stdout",
     "output_type": "stream",
     "text": [
      "100 100\n"
     ]
    }
   ],
   "source": [
    "print(len(posterior), len(mu))"
   ]
  },
  {
   "cell_type": "markdown",
   "metadata": {
    "colab_type": "text",
    "id": "koZhGjvgO4uo"
   },
   "source": [
    "## 3. Regresión Lineal"
   ]
  },
  {
   "cell_type": "markdown",
   "metadata": {
    "colab_type": "text",
    "id": "TLYPUIQrPMgk"
   },
   "source": [
    "Construye una función que dado un input (X_train, Y_train) realice un ajuste lineal de cuadrados mínimos, y con ello devuelva las predicciones para el input X_test como un vector Y_test.\n",
    "\n",
    "Por favor, utilice el siguiente signature. Se recomienda cambiar el código solamente entre los comentarios \"Start\" y \"Finish\". \n",
    "Si quiere probar cosas, siéntase libre de crear nuevas celdas de código, aunque estas no serán evaluadas.\n",
    "\n",
    "<b>Ayuda</b>: pueden usar la implementación de las ecuaciones normales que aparece en el notebook de [modelos lineales](05_ModelosLineales.ipynb) o las clases del módulo <tt>sklearn.linear_model</tt>."
   ]
  },
  {
   "cell_type": "code",
   "execution_count": 0,
   "metadata": {
    "colab": {},
    "colab_type": "code",
    "id": "NavUqiDhPLx-"
   },
   "outputs": [],
   "source": [
    "def ajuste_lineal(X_train, Y_train, X_test):\n",
    "\n",
    "    \"\"\"Calcula un ajuste lineal.\n",
    "\n",
    "    Input:\n",
    "    X_train -- datos de entrenamiento, shape=(N,1)\n",
    "    Y_train -- etiquetas de entrenamiento, shape=(N,1)\n",
    "    X_test  -- datos de testeo, shape=(N_test,1)\n",
    "\n",
    "    Output:\n",
    "    Y_test  -- prediccion de etiquetas para X_test, shape=(N_test,1)\n",
    "    \"\"\"\n",
    "\n",
    "    N=len(X_train)\n",
    "    N_test=len(X_test)\n",
    "    #Start\n",
    "    x = X_train.reshape(len(X_train), 1)\n",
    "    t = Y_train.reshape(len(Y_train), 1)\n",
    "\n",
    "    phi = np.hstack([x*0.0 + 1, x])\n",
    "    pp = np.dot(phi.T, phi)\n",
    "    yy = np.dot(phi.T, t)\n",
    "\n",
    "    wml = np.linalg.solve(pp, yy)\n",
    "\n",
    "    X_test = X_test.reshape(len(X_test), 1)\n",
    "    phi_test = np.hstack([X_test*0.0 + 1, X_test]) \n",
    "\n",
    "    #ahora guardamos los resultados en esta variable\n",
    "    Y_test = phi_test @ wml\n",
    "    #Finish\n",
    "    assert len(Y_test) == len(X_test), \"Tamaño de Y_test distinto al de X_test\"\n",
    "    return np.array(Y_test)"
   ]
  }
 ],
 "metadata": {
  "colab": {
   "collapsed_sections": [],
   "name": "Auto-evaluación.ipynb",
   "provenance": []
  },
  "kernelspec": {
   "display_name": "Python 3",
   "language": "python",
   "name": "python3"
  },
  "language_info": {
   "codemirror_mode": {
    "name": "ipython",
    "version": 3
   },
   "file_extension": ".py",
   "mimetype": "text/x-python",
   "name": "python",
   "nbconvert_exporter": "python",
   "pygments_lexer": "ipython3",
   "version": "3.6.9"
  }
 },
 "nbformat": 4,
 "nbformat_minor": 1
}

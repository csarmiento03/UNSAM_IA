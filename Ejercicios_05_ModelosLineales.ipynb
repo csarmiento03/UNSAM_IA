{
 "cells": [
  {
   "cell_type": "code",
   "execution_count": 5,
   "metadata": {
    "colab": {},
    "colab_type": "code",
    "id": "XYWroXTLs-Zp"
   },
   "outputs": [],
   "source": [
    "# Por si alguien corre en python2\n",
    "from __future__ import division\n",
    "\n",
    "# Preparamos todo para correr\n",
    "import numpy as np\n",
    "from math import *\n",
    "from matplotlib import pyplot as plt\n",
    "%matplotlib inline\n",
    "from scipy.stats import norm, binom, gamma, poisson, multivariate_normal\n",
    "from sklearn import linear_model\n"
   ]
  },
  {
   "cell_type": "markdown",
   "metadata": {
    "colab_type": "text",
    "id": "mFmouu1ctIFf"
   },
   "source": [
    "## Ejercicio 1:Fitteando una recta ruidosa de manera Bayesiana.\n",
    "\n",
    "Como primer ejemplo de regresión lineal, tratemos de fittear los parametros $a_{0}$, $a_{1}$ de una recta $f(x,\\vec{a}) = a_0 + a_{1}x$ donde $x$ está en el intervalo $[-1,1)$."
   ]
  },
  {
   "cell_type": "markdown",
   "metadata": {
    "colab_type": "text",
    "id": "xmazAIfPtWne"
   },
   "source": [
    "* **A)** Genere un set artificial de datos usando, usando como valores $a_{1} = 0.5$, $a_{0}= -0.3$. Añada a las mediciones ruido gaussiano  $\\epsilon \\sim \\mathcal{N}(\\mu=0, \\sigma = 0.2)$. \n",
    "Al terminar debería tener un conjunto de $N= 100$  pares $(x_n,t_n)$, con \n",
    "$t_n = f(x_n,\\vec{a}) + \\epsilon$."
   ]
  },
  {
   "cell_type": "markdown",
   "metadata": {
    "colab_type": "text",
    "id": "YWYDby8puqkv"
   },
   "source": [
    "* **B)** Como modelo usaremos una regresión lineal de la forma $y(x) = \\omega_0 + \\omega_1 x$. ¿Cuál base de funciones $\\phi_j$ estamos usando? (recuerde que por convención $\\phi_0(x)=1$). \n",
    "Escriba para estos la matriz de diseño.\n",
    "$$\\Phi = \\begin{pmatrix}\n",
    "\\phi_0(x_1) & \\phi_1(x_1)\\\\\n",
    "\\phi_0(x_2) & \\phi_1(x_2)\\\\\n",
    "\\vdots & \\vdots)\\\\\n",
    "\\phi_0(x_N) & \\phi_1(x_N)\\\\\n",
    "\\end{pmatrix}$$"
   ]
  },
  {
   "cell_type": "code",
   "execution_count": 6,
   "metadata": {
    "colab": {},
    "colab_type": "code",
    "id": "Xhcx-wbnusXa"
   },
   "outputs": [
    {
     "name": "stdout",
     "output_type": "stream",
     "text": [
      "(100, 1) (100, 1)\n"
     ]
    }
   ],
   "source": [
    "import numpy.random as rr\n",
    "\n",
    "# Parámetros de la ground truth\n",
    "a0 = -0.3\n",
    "a1 = 0.5\n",
    "\n",
    "beta = 1./1.\n",
    "\n",
    "# Número de datos\n",
    "n = 100\n",
    "\n",
    "# \n",
    "x_ = 2 * np.random.rand(n, 1) - 1\n",
    "\n",
    "# El modelo real (ground truth)\n",
    "t_ = a0 + a1 * x_\n",
    "\n",
    "# Agregemos error normal a los datos\n",
    "#For random samples from N(\\mu, \\sigma^2), use:\n",
    "#sigma * np.random.randn(...) + mu\n",
    "t_ += 0.2*np.random.randn(n, 1)\n",
    "\n",
    "print(x_.shape, t_.shape)"
   ]
  },
  {
   "cell_type": "code",
   "execution_count": 7,
   "metadata": {},
   "outputs": [
    {
     "name": "stdout",
     "output_type": "stream",
     "text": [
      "(2, 100)\n",
      "(100, 2)\n",
      "Las dos notaciones para el producto de matrices son idénticas: True\n",
      "[[-29.68678687]\n",
      " [ 16.87718728]]\n"
     ]
    }
   ],
   "source": [
    "x = x_.reshape(len(x_), 1)\n",
    "t = t_.reshape(len(t_), 1)\n",
    "\n",
    "# Primero definamos la matriz uniendo dos vectores\n",
    "phi = np.hstack([x*0.0 + 1, x])\n",
    "#print(phi)\n",
    "\n",
    "print(phi.T.shape)\n",
    "print(phi.shape)\n",
    "\n",
    "pp = np.dot(phi.T, phi)\n",
    "pp2 = phi.T @ phi\n",
    "\n",
    "print('Las dos notaciones para el producto de matrices son idénticas: {}'.format(np.allclose(pp, pp2)))\n",
    "yy = np.dot(phi.T, t)\n",
    "\n",
    "print(yy)"
   ]
  },
  {
   "cell_type": "code",
   "execution_count": 8,
   "metadata": {},
   "outputs": [
    {
     "name": "stdout",
     "output_type": "stream",
     "text": [
      "[[-0.26421148]\n",
      " [ 0.44358694]]\n",
      "a0 = -0.3\n",
      "a1 = 0.5\n"
     ]
    }
   ],
   "source": [
    "wml = np.linalg.solve(pp, yy)\n",
    "print(wml)\n",
    "print('a0 = {}'.format(a0))\n",
    "print('a1 = {}'.format(a1))"
   ]
  },
  {
   "cell_type": "markdown",
   "metadata": {
    "colab_type": "text",
    "id": "QF8iFGk2utID"
   },
   "source": [
    "* **C)** Estamos interesados en encontrar los valores de $\\omega_0$ y $\\omega_1$ de nuestro modelo más probables, dado los datos que tenemos. Estos están dados por el máximo de nuestra distribución posterior. Si usamos priors uniformes en $\\omega_0$ y $\\omega_1$ para caracterizar nuestro desconocimiento, el máximo del posterior coincide con el de la verosimilitud y es lo que llamamos el *estimador de máxima verosimilitud*. De acuerdo a lo visto en la teórica, dicho valor esta dado por \n",
    "$$\\begin{pmatrix}\n",
    "\\omega_0^\\text{ML}\\\\\n",
    "\\omega_1^\\text{ML}\\\\\n",
    "\\end{pmatrix} \n",
    "= \\left(\\Phi^T \\Phi\\right)^{-1}\\Phi^T \\,\\vec{t}\n",
    "$$\n",
    "donde recordemos que $\\vec{t} = \\begin{pmatrix}t_1\\\\ \\vdots \\\\ t_N\\end{pmatrix}$ es el vector de los valores *target* medidos.\n",
    "\n",
    "Nota: Para un modelo lineal con error gaussiano, este estimador de maxima verosimilitud coincide con lo que se conoce como la solución de *cuadrados mínimos*."
   ]
  },
  {
   "cell_type": "code",
   "execution_count": 9,
   "metadata": {
    "colab": {},
    "colab_type": "code",
    "id": "0OWcChEAuuU9"
   },
   "outputs": [
    {
     "name": "stdout",
     "output_type": "stream",
     "text": [
      "[[-0.26421148]\n",
      " [ 0.44358694]]\n"
     ]
    }
   ],
   "source": [
    "wmlB=np.linalg.inv(pp)@yy\n",
    "print(wmlB)"
   ]
  },
  {
   "cell_type": "markdown",
   "metadata": {
    "colab_type": "text",
    "id": "x0wuicKJxbPv"
   },
   "source": [
    "* **D)** Si en vez de utilizar un prior uniforme, utilizamos un prior gaussiano de la forma $p(\\vec{\\omega}) = \\mathcal{N} (\\vec{0},\\alpha^{-1}{\\bf 1})$ (es decir que $p(\\vec{\\omega}) = p(\\omega_0) \\times p(\\omega_1)$ con cada $p(\\omega_i) = \\mathcal{N} (\\mu=0,\\sigma = \\alpha)$ ). Calcule la verosimilitud y el posterior (prior*posterior normalizado) al usar solo 1 punto, 2 puntos, 3 puntos y todo el conjunto de 100 puntos.\n",
    "\n",
    "\n",
    "Si se le complica hacerlo en forma numerica, puede utilizar la formula analitica dle posterior: Como este es un prior conjugado a la gaussiana en la teórica (o en su defecto, en el Bishop ecuacion 3.53), vimos que nuestro posterior es una gaussiana con valor medio\n",
    "$$\n",
    "\\vec{m}_N = \\beta {\\bf S}_N \\Phi^T \\vec{t}\\\\\n",
    "{\\bf S}_N^{-1} = \\alpha {\\bf 1} + \\beta \\Phi^T \\Phi\n",
    "$$\n",
    "donde $\\beta$ es el parámetro de precisión del ruido gaussiano, que se supone conocido. En nuestro caso sería $\\beta = (1/\\sigma)^2 = (1/0.2)^2 = 25$. Para seleccionar la cantidad de puntos a considerar, puede usar slicing en $\\vec{t}$ ( ``t[:N_puntos]``) y en $\\Phi$ (``Phi[:N_puntos,:]``)."
   ]
  },
  {
   "cell_type": "code",
   "execution_count": null,
   "metadata": {
    "colab": {},
    "colab_type": "code",
    "id": "IMvwAd6K0VLX"
   },
   "outputs": [],
   "source": []
  },
  {
   "cell_type": "markdown",
   "metadata": {
    "colab_type": "text",
    "id": "6PzLAyAa_HMO"
   },
   "source": [
    "# Ejercicio 1 bis: Scikit-learn\n",
    "\n",
    "Scikit-learn es una librería de machine learning con gran soporte para una multitud de algoritmos de análisis de datos, que nos permite acceder a ellos de una forma muy similar, obviando las diferencias técnicas entre sus implementaciones. En la práctica, nadie escribe sus propias funciones para algoritmos (a menos que sea un algoritmo novedoso que estás diseñando), sino que utilizamos las implementaciones provistas por este u otro paquete."
   ]
  },
  {
   "cell_type": "markdown",
   "metadata": {
    "colab_type": "text",
    "id": "XufupgU5_t6T"
   },
   "source": [
    "* **A)** Scikit-learn provee una clase LinearRegressor la cual permite obtener las soluciones de cuadrados mínimos en problemas lineales. Importe el paquete, y examine las distintas funciones leyendo la documentación provista en el paquete. Si no es suficiente, [visite la documentación on-line](https://scikit-learn.org/), para familiarizarse con como se utiliza."
   ]
  },
  {
   "cell_type": "code",
   "execution_count": 10,
   "metadata": {},
   "outputs": [],
   "source": [
    "def ajuste_lineal(X_train, Y_train, X_test):\n",
    "\n",
    "    \"\"\"Calcula un ajuste lineal.\n",
    "\n",
    "    Input:\n",
    "    X_train -- datos de entrenamiento, shape=(N,1)\n",
    "    Y_train -- etiquetas de entrenamiento, shape=(N,1)\n",
    "    X_test  -- datos de testeo, shape=(N_test,1)\n",
    "\n",
    "    Output:\n",
    "    Y_test  -- prediccion de etiquetas para X_test, shape=(N_test,1)\n",
    "    \"\"\"\n",
    "\n",
    "    N=len(X_train)\n",
    "    N_test=len(X_test)\n",
    "    #Start\n",
    "    x = X_train.reshape(len(X_train), 1)\n",
    "    t = Y_train.reshape(len(Y_train), 1)\n",
    "\n",
    "    phi = np.hstack([x*0.0 + 1, x])\n",
    "    pp = np.dot(phi.T, phi)\n",
    "    yy = np.dot(phi.T, t)\n",
    "\n",
    "    wml = np.linalg.solve(pp, yy)\n",
    "\n",
    "    X_test = X_test.reshape(len(X_test), 1)\n",
    "    phi_test = np.hstack([X_test*0.0 + 1, X_test]) \n",
    "\n",
    "    #ahora guardamos los resultados en esta variable\n",
    "    Y_test = phi_test @ wml\n",
    "    #Finish\n",
    "    assert len(Y_test) == len(X_test), \"Tamaño de Y_test distinto al de X_test\"\n",
    "    return np.array(Y_test)"
   ]
  },
  {
   "cell_type": "code",
   "execution_count": 11,
   "metadata": {},
   "outputs": [
    {
     "data": {
      "text/plain": [
       "[<matplotlib.lines.Line2D at 0x7f613f551d30>]"
      ]
     },
     "execution_count": 11,
     "metadata": {},
     "output_type": "execute_result"
    },
    {
     "data": {
      "image/png": "[encoded data removed]",
      "text/plain": [
       "<Figure size 432x288 with 1 Axes>"
      ]
     },
     "metadata": {},
     "output_type": "display_data"
    }
   ],
   "source": [
    "yyy = ajuste_lineal(x_, t_, x)\n",
    "plt.plot(x_,t_,'o')\n",
    "plt.plot(x_,yyy,'o')"
   ]
  },
  {
   "cell_type": "code",
   "execution_count": 12,
   "metadata": {
    "colab": {},
    "colab_type": "code",
    "id": "1dD8ficdARWP"
   },
   "outputs": [],
   "source": [
    "from sklearn.linear_model import LinearRegression\n",
    "reg = LinearRegression()\n",
    "#descomente cada linea para ver la documentación.\n",
    "#LinearRegression?\n",
    "#reg.fit?\n",
    "#reg.predict?\n",
    "#reg.score?"
   ]
  },
  {
   "cell_type": "markdown",
   "metadata": {
    "colab_type": "text",
    "id": "NPnYV5bXAc2k"
   },
   "source": [
    "* **B)** Utilizando los datos del ejercicio anterior, repita el inciso **C)** utilizando scikit-learn."
   ]
  },
  {
   "cell_type": "code",
   "execution_count": 13,
   "metadata": {
    "colab": {},
    "colab_type": "code",
    "id": "xruB3zXLAcVx"
   },
   "outputs": [
    {
     "name": "stdout",
     "output_type": "stream",
     "text": [
      "parametros [[0.44358694]] [-0.26421148]\n"
     ]
    },
    {
     "data": {
      "text/plain": [
       "[<matplotlib.lines.Line2D at 0x7f614dd61a58>]"
      ]
     },
     "execution_count": 13,
     "metadata": {},
     "output_type": "execute_result"
    },
    {
     "data": {
      "image/png": "[encoded data removed]",
      "text/plain": [
       "<Figure size 432x288 with 1 Axes>"
      ]
     },
     "metadata": {},
     "output_type": "display_data"
    }
   ],
   "source": [
    "reg.fit(x_,t_)\n",
    "a0_=reg.coef_\n",
    "a1_=reg.intercept_\n",
    "print(\"parametros\", a0_, a1_)\n",
    "reg.score(x_,t_)\n",
    "yp=reg.predict(x_)\n",
    "plt.plot(x,yp,'o')\n",
    "plt.plot(x,t_,'o')"
   ]
  },
  {
   "cell_type": "markdown",
   "metadata": {
    "colab_type": "text",
    "id": "iQF-aGNL4PoM"
   },
   "source": [
    "# Ejercicio 2: Algoritmo de Cuadrados Mínimos para encontrar la mejor base de funciones\n",
    "\n",
    "El algoritmo de cuadrados mínimos consiste en hallar los parámetros que minimicen la distancia cuadrática entre los datos y mi ajuste $$ E_{D}(\\vec{w})=\\frac{1}{2}\\left(t-\\vec{w}^{T}\\vec{\\phi}(\\vec{x})\\right)^{2}.$$ Este puede verse como el estimador de máxima verosimilitud cuando modelamos los errores como gaussianos en un problema lineal.\n",
    "\n",
    " Considere el siguiente set de datos ``X``y ``T`` como dado:"
   ]
  },
  {
   "cell_type": "code",
   "execution_count": 14,
   "metadata": {
    "colab": {
     "base_uri": "https://localhost:8080/",
     "height": 282
    },
    "colab_type": "code",
    "executionInfo": {
     "elapsed": 763,
     "status": "ok",
     "timestamp": 1586200191591,
     "user": {
      "displayName": "Ignacio Fabre",
      "photoUrl": "https://lh3.googleusercontent.com/a-/AOh14Gg7zSD7Nr148uG3EE-pBT8Q465capkzPkaSGwsEoM4=s64",
      "userId": "03651723443658892757"
     },
     "user_tz": 180
    },
    "id": "nTmm_AQT4Sj2",
    "outputId": "448a7ca5-e2be-47ee-c9c0-c50710ba87dd"
   },
   "outputs": [
    {
     "data": {
      "text/plain": [
       "(100,)"
      ]
     },
     "execution_count": 14,
     "metadata": {},
     "output_type": "execute_result"
    }
   ],
   "source": [
    "x=-1.0+2.0*np.random.rand(100)\n",
    "T=np.asarray(list(map(lambda x: 1.0*np.sin(6*x)+0.0*norm.rvs(loc=0.0,scale=0.1),x)))\n",
    "T.shape\n",
    "x.shape\n",
    "#plt.scatter(x,T)"
   ]
  },
  {
   "cell_type": "markdown",
   "metadata": {
    "colab_type": "text",
    "id": "51HYcOYa572S"
   },
   "source": [
    "* **A)** Considere la base de funciones los polinomios $\\phi_j(x) = x^j$, con $j=1,\\dots,M$. Calcule la matriz de diseño."
   ]
  },
  {
   "cell_type": "code",
   "execution_count": 15,
   "metadata": {
    "colab": {},
    "colab_type": "code",
    "id": "ADlzSf7Z5eei"
   },
   "outputs": [],
   "source": [
    "def matrizdise(x, M):\n",
    "    \"\"\"\n",
    "    Produce la matriz de diseño con features polinomiales de grado M\n",
    "    \n",
    "    :param x: vector columna con la variable input\n",
    "    :type x: np.array of shape (n, 1)\n",
    "    :param M: grado de las features polinomiales, defaults to 2.\n",
    "    :type M: int, optional\n",
    "    :return phi: matriz de diseño con features polinomiales\n",
    "    :rtype: np.array of shape (n, M+1)\n",
    "    \"\"\"  \n",
    "    # Construye array con los x y los t\n",
    "    col=[]\n",
    "    phi0 = np.hstack([x*0.0 + 1])\n",
    "    for i in range(0,M+1):\n",
    "        col.append(x**i)\n",
    "\n",
    "    phi=np.array(col).T \n",
    "    \n",
    "    return phi\n",
    "#print(matrizdise(x,2))"
   ]
  },
  {
   "cell_type": "markdown",
   "metadata": {
    "colab_type": "text",
    "id": "ZH04_o1a7LQS"
   },
   "source": [
    "* **B)** Calcule la solución de cuadrados mínimos, utilizando la expresión dada en el inciso **C)** del **Ejercicio 1**, (la ecuación 3.15 del Bishop; ecuaciones normales). Grafíquela encima de los datos. Estudie como cambia para distintos tamaños de la base, i.e. distintos valores de $M$."
   ]
  },
  {
   "cell_type": "code",
   "execution_count": 16,
   "metadata": {},
   "outputs": [],
   "source": [
    "def ajuste_lineal(M, X_train, Y_train, X_test):\n",
    "\n",
    "    \"\"\"Calcula un ajuste lineal.\n",
    "\n",
    "    Input:\n",
    "    X_train -- datos de entrenamiento, shape=(N,1)\n",
    "    Y_train -- etiquetas de entrenamiento, shape=(N,1)\n",
    "    X_test  -- datos de testeo, shape=(N_test,1)\n",
    "\n",
    "    Output:\n",
    "    Y_test  -- prediccion de etiquetas para X_test, shape=(N_test,1)\n",
    "    \"\"\"\n",
    "\n",
    "    N=len(X_train)\n",
    "    N_test=len(X_test)\n",
    "    #Start\n",
    "    x = X_train.reshape(len(X_train))\n",
    "    t = Y_train.reshape(len(Y_train))\n",
    "\n",
    "    phi = matrizdise(X_train,M)\n",
    "    pp = np.dot(phi.T, phi)\n",
    "    yy = np.dot(phi.T, t)\n",
    "\n",
    "    wml = np.linalg.solve(pp, yy)\n",
    "\n",
    "    X_test = X_test.reshape(len(X_test))\n",
    "    phi_test = matrizdise(X_test,M)\n",
    "\n",
    "    #ahora guardamos los resultados en esta variable\n",
    "    Y_test = phi_test @ wml\n",
    "    #Finish\n",
    "    assert len(Y_test) == len(X_test), \"Tamaño de Y_test distinto al de X_test\"\n",
    "    return np.array(Y_test)"
   ]
  },
  {
   "cell_type": "code",
   "execution_count": 17,
   "metadata": {},
   "outputs": [
    {
     "data": {
      "text/plain": [
       "<matplotlib.collections.PathCollection at 0x7f613ce41da0>"
      ]
     },
     "execution_count": 17,
     "metadata": {},
     "output_type": "execute_result"
    },
    {
     "data": {
      "image/png": "[encoded data removed]",
      "text/plain": [
       "<Figure size 432x288 with 1 Axes>"
      ]
     },
     "metadata": {},
     "output_type": "display_data"
    }
   ],
   "source": [
    "y=ajuste_lineal(9,x,T,x)\n",
    "plt.scatter(x,T,)\n",
    "plt.scatter(x,y)"
   ]
  },
  {
   "cell_type": "markdown",
   "metadata": {
    "colab_type": "text",
    "id": "3Tib1NLO7eEJ"
   },
   "source": [
    "* **C)** Una forma de aproximar la solución cerrada de forma iterativa consiste en aplicar el algoritmo de Descenso por Gradiente para minimizar la función $E_D(\\vec{\\omega})$:\n",
    "$$\n",
    "\\vec{w}^{\\tau+1}=\\vec{w}^{\\tau}+\\eta\\nabla E_{n}(\\vec{w}^{\\tau})\\\\\n",
    "=\\vec{w}^{\\tau}+\\eta(t_{n}-\\vec{w}^{\\tau T}\\vec{\\phi}(\\vec{x}_n))\\vec{\\phi}(\\vec{x}_{n}).\n",
    "$$\n",
    "Donde partimos de un valor $\\vec{\\omega}^0$ aleatorio que nos permite calcular de forma iterativoa los $\\vec{\\omega}^\\tau$ subsiguientes en función del parametro $\\eta$ (también llamado *learning rate*). Examine como se va acercando este algoritmo a la solución cerrada calculada en el inciso anterior, para un valor de $\\eta=0.2$. Estudie como varia al cambiar $\\eta$ y de $\\omega_0$.\n"
   ]
  },
  {
   "cell_type": "code",
   "execution_count": null,
   "metadata": {
    "colab": {},
    "colab_type": "code",
    "id": "kpmXmr1p8chh"
   },
   "outputs": [],
   "source": []
  },
  {
   "cell_type": "markdown",
   "metadata": {
    "colab_type": "text",
    "id": "StnkcHgg9Umf"
   },
   "source": [
    "* **D)** Se puede ver que incluir un prior normal centrado en cero para los parámetros, equivale a agregar a la función de cuadrados mínimos un término regularizador\n",
    "$$E_{D}(\\vec{w})=\\frac{1}{2}\\sum_{i=1}^{N}(t_{i}-\\vec{w}^{T}\\vec{\\phi}(\\vec{x_{i}}))^{2}+\\frac{\\kappa}{2}\\vec{w}^{T}\\vec{w}.$$\n",
    "Esto se traduce, en el algoritmo recursivo, en la siguiente expresión\n",
    "$$\n",
    "\\vec{w}^{\\tau+1}=\\vec{w}^{\\tau}+\\eta\\left[(t_{n}-\\vec{w}^{\\tau T}\\vec{\\phi}(\\vec{x}_n))\\vec{\\phi}(\\vec{x}_{n}) + \\kappa \\vec{\\omega}^{\\tau}\\right].\n",
    "$$\n",
    "Modifique el código del inciso anterior, y para un valor de $\\kappa$ de su elección, estudie que sucede (puede comparar con el caso $\\kappa=0$ que coincide con el inciso anterior)."
   ]
  },
  {
   "cell_type": "code",
   "execution_count": null,
   "metadata": {
    "colab": {},
    "colab_type": "code",
    "id": "CNC_K7wI9k_p"
   },
   "outputs": [],
   "source": []
  },
  {
   "cell_type": "markdown",
   "metadata": {
    "colab_type": "text",
    "id": "UeXfUP-f-cfu"
   },
   "source": [
    "* **E)** Separe el set de datos en training y validation en una proporción de 0.8/0.2. En base a lo visto en la teoría, ¿observa overfitting? ¿a que se debe? ¿cómo lo reduciría? "
   ]
  },
  {
   "cell_type": "code",
   "execution_count": null,
   "metadata": {
    "colab": {},
    "colab_type": "code",
    "id": "G27ycGcx-vC0"
   },
   "outputs": [],
   "source": []
  },
  {
   "cell_type": "markdown",
   "metadata": {
    "colab_type": "text",
    "id": "rvRYHGmgA_5g"
   },
   "source": [
    "# Ejercicio 2 bis: Scikit-learn\n",
    "\n",
    "Utilizar una base de funciones $\\phi_j(x)$ es lo que en la jerga de data science se conoce como *feature extraction*. Transformamos nuestros datos $x$ en features $\\tilde x = \\phi_j(x)$, los cuales usamos para alimentar nuestros modelos (por ejemplo, el Regresor Lineal de los ejercicios anteriores. Este tipo de transformaciones es parte de lo que se conoce como *pre-procesado* de los datos."
   ]
  },
  {
   "cell_type": "markdown",
   "metadata": {
    "colab_type": "text",
    "id": "ULJIAyVjCRca"
   },
   "source": [
    "* **A)** Importe de ``sklearn.preprocessing`` la clase ``PolynomialFeatures``. Examine su documentación para ver que es lo que hace."
   ]
  },
  {
   "cell_type": "code",
   "execution_count": 18,
   "metadata": {
    "colab": {},
    "colab_type": "code",
    "id": "g4j5wJkkBArO"
   },
   "outputs": [],
   "source": [
    "from sklearn.linear_model import LinearRegression\n",
    "import sklearn.preprocessing as pp"
   ]
  },
  {
   "cell_type": "markdown",
   "metadata": {
    "colab_type": "text",
    "id": "osaITEz4CpPV"
   },
   "source": [
    "* **B)** Utilizando ``PolynomialFeatures`` y ``LinearRegressor`` repita el inciso **C** del ejercicio anterior. \n",
    "\n",
    "Si le interesa aprender una forma mas elegante de tratar con preprocesado (que podría ser util si se realizan mas transformaciones previas), examine el importe la clase ``Pipeline`` de ``sklearn.pipeline``, e intente usarla con ayuda de [los ejemplos de la documentación](https://scikit-learn.org/stable/modules/linear_model.html#polynomial-regression-extending-linear-models-with-basis-functions)."
   ]
  },
  {
   "cell_type": "code",
   "execution_count": 19,
   "metadata": {},
   "outputs": [],
   "source": [
    "import numpy.random as rr\n",
    "\n",
    "ndata = 1000000\n",
    "ntest = 100000\n",
    "# \n",
    "x = rr.rand(ndata, 1)\n",
    "xtest = rr.rand(ntest, 1)\n",
    "\n",
    "# El modelo real (ground truth)\n",
    "t = np.sin(2*np.pi * x)\n",
    "ttest = np.sin(2*np.pi * xtest)\n",
    "\n",
    "# Agregemos error normal a los datos, con desviación standard 0.3\n",
    "t += rr.randn(ndata, 1) * 0.3\n",
    "ttest += rr.randn(ntest, 1) * 0.3\n",
    "\n",
    "# Arrays para representar el modelo verdadero\n",
    "x_ = np.linspace(0, 1, 100)\n",
    "t_  = np.sin(2*np.pi * x_)"
   ]
  },
  {
   "cell_type": "code",
   "execution_count": 20,
   "metadata": {
    "colab": {},
    "colab_type": "code",
    "id": "Jnc8jwYUCs0k"
   },
   "outputs": [
    {
     "data": {
      "text/plain": [
       "[<matplotlib.lines.Line2D at 0x7f614dd07400>]"
      ]
     },
     "execution_count": 20,
     "metadata": {},
     "output_type": "execute_result"
    },
    {
     "data": {
      "image/png": "[encoded data removed]",
      "text/plain": [
       "<Figure size 432x288 with 1 Axes>"
      ]
     },
     "metadata": {},
     "output_type": "display_data"
    }
   ],
   "source": [
    "ft=pp.PolynomialFeatures(degree=9)\n",
    "phi = ft.fit_transform(x)\n",
    "rl = LinearRegression()\n",
    "rl.fit(phi, t)\n",
    "\n",
    "phi_ = ft.fit_transform(x_[:, np.newaxis])\n",
    "#print(phi_.shape)\n",
    "ypred_ = rl.predict(phi_)\n",
    "\n",
    "plt.plot(x_, t_, '.b')\n",
    "plt.plot(x_, ypred_, '.r')\n"
   ]
  },
  {
   "cell_type": "code",
   "execution_count": 21,
   "metadata": {},
   "outputs": [],
   "source": [
    "from sklearn.pipeline import Pipeline\n",
    "\n",
    "polyregression = Pipeline([('features', pp.PolynomialFeatures(degree=5)),\n",
    "                          ('regression', LinearRegression())\n",
    "                          ])"
   ]
  },
  {
   "cell_type": "code",
   "execution_count": 23,
   "metadata": {},
   "outputs": [
    {
     "data": {
      "text/plain": [
       "[<matplotlib.lines.Line2D at 0x7f614dc67588>]"
      ]
     },
     "execution_count": 23,
     "metadata": {},
     "output_type": "execute_result"
    },
    {
     "data": {
      "image/png": "[encoded data removed]",
      "text/plain": [
       "<Figure size 432x288 with 1 Axes>"
      ]
     },
     "metadata": {},
     "output_type": "display_data"
    }
   ],
   "source": [
    "# Ajustemos el modelo a ellos\n",
    "polyregression.fit(x, t)\n",
    "\n",
    "# Y calculemos la predicción en un array bien muestreado y en los x de training\n",
    "y = polyregression.predict(x)\n",
    "y_ = polyregression.predict(x_[:, np.newaxis] )\n",
    "\n",
    "# ahora hagamos un plot\n",
    "#plt.plot(x_, t_, '.b')\n",
    "plt.plot(x_, y_, '.r')"
   ]
  },
  {
   "cell_type": "markdown",
   "metadata": {
    "colab_type": "text",
    "id": "UlCJucFnEX08"
   },
   "source": [
    "* **C)** Examine la instancia de ``SGDRegressor``, y usando el argumento ``loss=\"squared_loss\"`` utilicelo para resolver el inciso **D** anterior de forma iterativa (será util el argumento ``learning_rate=constant`` y ``eta0=`` para comparar con la realizada en el ejercicio anterior)."
   ]
  },
  {
   "cell_type": "code",
   "execution_count": 128,
   "metadata": {
    "colab": {},
    "colab_type": "code",
    "id": "Zjtlsg_EE2i1"
   },
   "outputs": [],
   "source": [
    "from sklearn.linear_model import SGDRegressor as sgd\n",
    "SGDRegressor?"
   ]
  },
  {
   "cell_type": "code",
   "execution_count": 126,
   "metadata": {},
   "outputs": [
    {
     "name": "stderr",
     "output_type": "stream",
     "text": [
      "/usr/local/lib/python3.6/dist-packages/sklearn/utils/validation.py:724: DataConversionWarning: A column-vector y was passed when a 1d array was expected. Please change the shape of y to (n_samples, ), for example using ravel().\n",
      "  y = column_or_1d(y, warn=True)\n"
     ]
    },
    {
     "data": {
      "text/plain": [
       "SGDRegressor(alpha=0.0001, average=False, early_stopping=False, epsilon=0.1,\n",
       "             eta0=0.0001, fit_intercept=True, l1_ratio=0.15,\n",
       "             learning_rate='adaptive', loss='squared_loss', max_iter=10000,\n",
       "             n_iter_no_change=5, penalty='l2', power_t=0.25, random_state=None,\n",
       "             shuffle=True, tol=0.001, validation_fraction=0.1, verbose=0,\n",
       "             warm_start=False)"
      ]
     },
     "execution_count": 126,
     "metadata": {},
     "output_type": "execute_result"
    }
   ],
   "source": [
    "clf = sgd(loss='squared_loss', eta0=0.0001, max_iter=10000, learning_rate=\"adaptive\",)\n",
    "clf.fit(x,t)"
   ]
  },
  {
   "cell_type": "code",
   "execution_count": 127,
   "metadata": {},
   "outputs": [
    {
     "data": {
      "text/plain": [
       "[<matplotlib.lines.Line2D at 0x7f969a646fd0>]"
      ]
     },
     "execution_count": 127,
     "metadata": {},
     "output_type": "execute_result"
    },
    {
     "data": {
      "image/png": "[encoded data removed]",
      "text/plain": [
       "<Figure size 432x288 with 1 Axes>"
      ]
     },
     "metadata": {},
     "output_type": "display_data"
    }
   ],
   "source": [
    "yy = clf.predict(x)\n",
    "yy_ = clf.predict(x_[:, np.newaxis])\n",
    "\n",
    "plt.plot(x_, t_, '.b')\n",
    "plt.plot(x_, yy_, '.r')"
   ]
  },
  {
   "cell_type": "code",
   "execution_count": null,
   "metadata": {},
   "outputs": [],
   "source": []
  }
 ],
 "metadata": {
  "colab": {
   "authorship_tag": "ABX9TyOCO6ax2buzL4YrfpvGc66v",
   "collapsed_sections": [],
   "name": "Ejercicios_05_ModelosLineales",
   "provenance": []
  },
  "kernelspec": {
   "display_name": "Python 3",
   "language": "python",
   "name": "python3"
  },
  "language_info": {
   "codemirror_mode": {
    "name": "ipython",
    "version": 3
   },
   "file_extension": ".py",
   "mimetype": "text/x-python",
   "name": "python",
   "nbconvert_exporter": "python",
   "pygments_lexer": "ipython3",
   "version": "3.6.9"
  }
 },
 "nbformat": 4,
 "nbformat_minor": 1
}

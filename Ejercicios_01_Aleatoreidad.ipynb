{
 "cells": [
  {
   "cell_type": "markdown",
   "metadata": {},
   "source": [
    "# Ejercicios 1\n",
    "\n",
    "Ejercicios relacionados con el [Notebook de Aleatoreidad](01_Aleatoreidad.ipynb)."
   ]
  },
  {
   "cell_type": "code",
   "execution_count": null,
   "metadata": {},
   "outputs": [],
   "source": [
    "# Por si alguien corre en python2\n",
    "from __future__ import division\n",
    "\n",
    "# Preparamos todo para correr\n",
    "import numpy as np\n",
    "from math import *\n",
    "from matplotlib import pylab as plt"
   ]
  },
  {
   "cell_type": "markdown",
   "metadata": {},
   "source": [
    "### Ejercicio 1\n",
    "\n",
    "a. Hacer un plot similar al que muestra la evolución de la fracción de elementos de la muestra que caen en el cuadrante superior derecho. Usar un método que resulte en una mejora significativa de la eficiencia.\n",
    "\n",
    "<b>Tip</b>: en lugar de generar una muestra nueva para cada tamaño, usar sub-conjuntos de una sola muestra.\n",
    "\n",
    "b. Verificar que la nueva implementación es más eficiente que la del [notebook](01_Aleatoreidad.ipynb).\n",
    "\n",
    "<b>Tip</b>: medir el tiempo de corrida con <tt>timeit</tt> o <tt>time.process_time</tt>."
   ]
  },
  {
   "cell_type": "code",
   "execution_count": null,
   "metadata": {},
   "outputs": [],
   "source": []
  },
  {
   "cell_type": "markdown",
   "metadata": {},
   "source": [
    "### Ejercicio 2\n",
    "\n",
    "a. Usando las muestras que pueden obtenerse del repositorio, realizar un análisis de fracción de muestras en el cuadrante superior derecho para cada una de ellas. Presentar plots similares, en una misma figura.\n",
    "\n",
    "b. ¿Qué conjunto de datos muestra indicios de tener una distribución diferente a la uniforme?\n",
    "\n",
    "c. ¿A partir de qué tamaño de muestra puede identificarse la muestra no uniforme?"
   ]
  },
  {
   "cell_type": "code",
   "execution_count": null,
   "metadata": {},
   "outputs": [],
   "source": []
  }
 ],
 "metadata": {
  "kernelspec": {
   "display_name": "Python 3",
   "language": "python",
   "name": "python3"
  },
  "language_info": {
   "codemirror_mode": {
    "name": "ipython",
    "version": 3
   },
   "file_extension": ".py",
   "mimetype": "text/x-python",
   "name": "python",
   "nbconvert_exporter": "python",
   "pygments_lexer": "ipython3",
   "version": "3.7.5"
  }
 },
 "nbformat": 4,
 "nbformat_minor": 2
}
